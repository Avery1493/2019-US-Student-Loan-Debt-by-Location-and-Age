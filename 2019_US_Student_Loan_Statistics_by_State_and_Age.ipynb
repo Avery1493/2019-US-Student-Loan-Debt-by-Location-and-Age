{
  "nbformat": 4,
  "nbformat_minor": 0,
  "metadata": {
    "colab": {
      "name": "2019 US Student Loan Statistics by State and Age",
      "provenance": [],
      "collapsed_sections": [],
      "authorship_tag": "ABX9TyNhuurPBwL/GPQfXEm+9aTY",
      "include_colab_link": true
    },
    "kernelspec": {
      "name": "python3",
      "display_name": "Python 3"
    }
  },
  "cells": [
    {
      "cell_type": "markdown",
      "metadata": {
        "id": "view-in-github",
        "colab_type": "text"
      },
      "source": [
        "<a href=\"https://colab.research.google.com/github/Avery1493/2019-US-Student-Loan-Debt-by-Location-and-Age/blob/master/2019_US_Student_Loan_Statistics_by_State_and_Age.ipynb\" target=\"_parent\"><img src=\"https://colab.research.google.com/assets/colab-badge.svg\" alt=\"Open In Colab\"/></a>"
      ]
    },
    {
      "cell_type": "code",
      "metadata": {
        "id": "BjcqO6HN80EP",
        "colab_type": "code",
        "colab": {}
      },
      "source": [
        "#Importing Libraries \n",
        "import numpy as np\n",
        "import pandas as pd\n",
        "import matplotlib.pyplot as plt\n",
        "\n",
        "#SITE WERE DATA CAN BE FOUND\n",
        "#https://studentaid.gov/data-center/student/portfolio\n",
        "#Using Portfolio by Location and Portfolio by Location and Age"
      ],
      "execution_count": 0,
      "outputs": []
    },
    {
      "cell_type": "code",
      "metadata": {
        "id": "BeLesNIrQ39X",
        "colab_type": "code",
        "colab": {}
      },
      "source": [
        "#READING IN 2 FILES \n",
        "location = pd.read_csv('https://github.com/Avery1493/2019-US-Student-Loan-Debt-by-Location-and-Age/raw/master/Portfolio%20by%20Location.csv')\n",
        "location_age = pd.read_csv('https://github.com/Avery1493/2019-US-Student-Loan-Debt-by-Location-and-Age/raw/master/Portfolio%20by%20Location%20and%20Age.csv')\n",
        "location = pd.DataFrame(location)\n",
        "location_age = pd.DataFrame(location_age)\n"
      ],
      "execution_count": 0,
      "outputs": []
    },
    {
      "cell_type": "code",
      "metadata": {
        "id": "v-jVa0JJWIuS",
        "colab_type": "code",
        "colab": {
          "base_uri": "https://localhost:8080/",
          "height": 204
        },
        "outputId": "5cde53e9-bbd6-4767-9610-1eab02e4919f"
      },
      "source": [
        "location.head()"
      ],
      "execution_count": 168,
      "outputs": [
        {
          "output_type": "execute_result",
          "data": {
            "text/html": [
              "<div>\n",
              "<style scoped>\n",
              "    .dataframe tbody tr th:only-of-type {\n",
              "        vertical-align: middle;\n",
              "    }\n",
              "\n",
              "    .dataframe tbody tr th {\n",
              "        vertical-align: top;\n",
              "    }\n",
              "\n",
              "    .dataframe thead th {\n",
              "        text-align: right;\n",
              "    }\n",
              "</style>\n",
              "<table border=\"1\" class=\"dataframe\">\n",
              "  <thead>\n",
              "    <tr style=\"text-align: right;\">\n",
              "      <th></th>\n",
              "      <th>Location</th>\n",
              "      <th>State</th>\n",
              "      <th>Balance (in billions)</th>\n",
              "      <th>Borrowers (in thousands)</th>\n",
              "    </tr>\n",
              "  </thead>\n",
              "  <tbody>\n",
              "    <tr>\n",
              "      <th>0</th>\n",
              "      <td>Alabama</td>\n",
              "      <td>AL</td>\n",
              "      <td>21.5</td>\n",
              "      <td>600.3</td>\n",
              "    </tr>\n",
              "    <tr>\n",
              "      <th>1</th>\n",
              "      <td>Alaska</td>\n",
              "      <td>AK</td>\n",
              "      <td>2.2</td>\n",
              "      <td>66.2</td>\n",
              "    </tr>\n",
              "    <tr>\n",
              "      <th>2</th>\n",
              "      <td>Arizona</td>\n",
              "      <td>AZ</td>\n",
              "      <td>28.5</td>\n",
              "      <td>836.6</td>\n",
              "    </tr>\n",
              "    <tr>\n",
              "      <th>3</th>\n",
              "      <td>Arkansas</td>\n",
              "      <td>AR</td>\n",
              "      <td>11.9</td>\n",
              "      <td>368.7</td>\n",
              "    </tr>\n",
              "    <tr>\n",
              "      <th>4</th>\n",
              "      <td>California</td>\n",
              "      <td>CA</td>\n",
              "      <td>135.0</td>\n",
              "      <td>3834.5</td>\n",
              "    </tr>\n",
              "  </tbody>\n",
              "</table>\n",
              "</div>"
            ],
            "text/plain": [
              "     Location State  Balance (in billions)  Borrowers (in thousands)\n",
              "0     Alabama    AL                   21.5                     600.3\n",
              "1      Alaska    AK                    2.2                      66.2\n",
              "2     Arizona    AZ                   28.5                     836.6\n",
              "3    Arkansas    AR                   11.9                     368.7\n",
              "4  California    CA                  135.0                    3834.5"
            ]
          },
          "metadata": {
            "tags": []
          },
          "execution_count": 168
        }
      ]
    },
    {
      "cell_type": "code",
      "metadata": {
        "id": "SH0bxRv8Xgd1",
        "colab_type": "code",
        "colab": {
          "base_uri": "https://localhost:8080/",
          "height": 241
        },
        "outputId": "868dddca-4ec2-460b-9914-327d8110a507"
      },
      "source": [
        "location_age.head()"
      ],
      "execution_count": 186,
      "outputs": [
        {
          "output_type": "execute_result",
          "data": {
            "text/html": [
              "<div>\n",
              "<style scoped>\n",
              "    .dataframe tbody tr th:only-of-type {\n",
              "        vertical-align: middle;\n",
              "    }\n",
              "\n",
              "    .dataframe tbody tr th {\n",
              "        vertical-align: top;\n",
              "    }\n",
              "\n",
              "    .dataframe thead th {\n",
              "        text-align: right;\n",
              "    }\n",
              "</style>\n",
              "<table border=\"1\" class=\"dataframe\">\n",
              "  <thead>\n",
              "    <tr style=\"text-align: right;\">\n",
              "      <th></th>\n",
              "      <th>Location</th>\n",
              "      <th>State</th>\n",
              "      <th>24_or_Younger_Dollars_Outstanding</th>\n",
              "      <th>24 _Borrowers</th>\n",
              "      <th>25_to_34_Dollars_Outstanding</th>\n",
              "      <th>25 _Borrowers</th>\n",
              "      <th>35_to_49_Dollars_Outstanding</th>\n",
              "      <th>35 _Borrowers</th>\n",
              "      <th>50_to_61_Dollars_Outstanding</th>\n",
              "      <th>50 _Borrowers</th>\n",
              "      <th>62_and_Older_Dollars_Outstanding</th>\n",
              "      <th>62 _Borrowers</th>\n",
              "    </tr>\n",
              "  </thead>\n",
              "  <tbody>\n",
              "    <tr>\n",
              "      <th>0</th>\n",
              "      <td>Alabama</td>\n",
              "      <td>AL</td>\n",
              "      <td>1.78</td>\n",
              "      <td>120.7</td>\n",
              "      <td>7.03</td>\n",
              "      <td>200.4</td>\n",
              "      <td>8.72</td>\n",
              "      <td>182.0</td>\n",
              "      <td>3.15</td>\n",
              "      <td>75.2</td>\n",
              "      <td>0.81</td>\n",
              "      <td>21.6</td>\n",
              "    </tr>\n",
              "    <tr>\n",
              "      <th>1</th>\n",
              "      <td>Alaska</td>\n",
              "      <td>AK</td>\n",
              "      <td>0.12</td>\n",
              "      <td>10.5</td>\n",
              "      <td>0.76</td>\n",
              "      <td>25.4</td>\n",
              "      <td>0.86</td>\n",
              "      <td>20.2</td>\n",
              "      <td>0.33</td>\n",
              "      <td>7.8</td>\n",
              "      <td>0.10</td>\n",
              "      <td>2.3</td>\n",
              "    </tr>\n",
              "    <tr>\n",
              "      <th>2</th>\n",
              "      <td>Arizona</td>\n",
              "      <td>AZ</td>\n",
              "      <td>1.75</td>\n",
              "      <td>133.9</td>\n",
              "      <td>9.33</td>\n",
              "      <td>292.4</td>\n",
              "      <td>11.55</td>\n",
              "      <td>263.1</td>\n",
              "      <td>4.51</td>\n",
              "      <td>112.4</td>\n",
              "      <td>1.37</td>\n",
              "      <td>34.5</td>\n",
              "    </tr>\n",
              "    <tr>\n",
              "      <th>3</th>\n",
              "      <td>Arkansas</td>\n",
              "      <td>AR</td>\n",
              "      <td>1.00</td>\n",
              "      <td>74.3</td>\n",
              "      <td>3.99</td>\n",
              "      <td>128.0</td>\n",
              "      <td>4.86</td>\n",
              "      <td>112.2</td>\n",
              "      <td>1.62</td>\n",
              "      <td>42.6</td>\n",
              "      <td>0.41</td>\n",
              "      <td>11.3</td>\n",
              "    </tr>\n",
              "    <tr>\n",
              "      <th>4</th>\n",
              "      <td>California</td>\n",
              "      <td>CA</td>\n",
              "      <td>9.67</td>\n",
              "      <td>700.4</td>\n",
              "      <td>50.17</td>\n",
              "      <td>1450.7</td>\n",
              "      <td>47.50</td>\n",
              "      <td>1023.5</td>\n",
              "      <td>20.74</td>\n",
              "      <td>489.7</td>\n",
              "      <td>6.88</td>\n",
              "      <td>167.4</td>\n",
              "    </tr>\n",
              "  </tbody>\n",
              "</table>\n",
              "</div>"
            ],
            "text/plain": [
              "     Location State  ...  62_and_Older_Dollars_Outstanding  62 _Borrowers\n",
              "0     Alabama    AL  ...                              0.81           21.6\n",
              "1      Alaska    AK  ...                              0.10            2.3\n",
              "2     Arizona    AZ  ...                              1.37           34.5\n",
              "3    Arkansas    AR  ...                              0.41           11.3\n",
              "4  California    CA  ...                              6.88          167.4\n",
              "\n",
              "[5 rows x 12 columns]"
            ]
          },
          "metadata": {
            "tags": []
          },
          "execution_count": 186
        }
      ]
    },
    {
      "cell_type": "markdown",
      "metadata": {
        "id": "02gQamk-859c",
        "colab_type": "text"
      },
      "source": [
        "# Overview"
      ]
    },
    {
      "cell_type": "code",
      "metadata": {
        "id": "QeMlXhUq9ZIH",
        "colab_type": "code",
        "outputId": "95b9e89a-608c-41d8-f0f3-d62cf8686f8d",
        "colab": {
          "base_uri": "https://localhost:8080/",
          "height": 34
        }
      },
      "source": [
        "print('Total Outstanding Debt (in Trillions):',location['Balance (in billions)'].sum()/1000)"
      ],
      "execution_count": 169,
      "outputs": [
        {
          "output_type": "stream",
          "text": [
            "Total Outstanding Debt (in Trillions): 1.3933\n"
          ],
          "name": "stdout"
        }
      ]
    },
    {
      "cell_type": "code",
      "metadata": {
        "id": "j8AJPTLQ99JY",
        "colab_type": "code",
        "outputId": "b06efff0-5d34-46bb-ca59-ccd94391d69e",
        "colab": {
          "base_uri": "https://localhost:8080/",
          "height": 34
        }
      },
      "source": [
        "print('Total Borrowers (in Millions):',location['Borrowers (in thousands)'].sum()/1000)"
      ],
      "execution_count": 170,
      "outputs": [
        {
          "output_type": "stream",
          "text": [
            "Total Borrowers (in Millions): 40.2243\n"
          ],
          "name": "stdout"
        }
      ]
    },
    {
      "cell_type": "code",
      "metadata": {
        "id": "BcdMIeKH88Gv",
        "colab_type": "code",
        "outputId": "fe38581d-94ee-40b6-e3ed-f2c821bb9d0c",
        "colab": {
          "base_uri": "https://localhost:8080/",
          "height": 34
        }
      },
      "source": [
        "print('Average Outstanding Debt per person(in thousands):',round(location.describe().iloc[1,0] / location.describe().iloc[1,1] * 1000,5))"
      ],
      "execution_count": 171,
      "outputs": [
        {
          "output_type": "stream",
          "text": [
            "Average Outstanding Debt per person(in thousands): 34.63827\n"
          ],
          "name": "stdout"
        }
      ]
    },
    {
      "cell_type": "markdown",
      "metadata": {
        "id": "hNxsNpSS87Hz",
        "colab_type": "text"
      },
      "source": [
        "# AVERAGES"
      ]
    },
    {
      "cell_type": "code",
      "metadata": {
        "id": "vBSQPPAj87rE",
        "colab_type": "code",
        "outputId": "e48ef14a-95e1-494e-c25e-24dced19b10f",
        "colab": {
          "base_uri": "https://localhost:8080/",
          "height": 289
        }
      },
      "source": [
        "#AVERAGING OUTSTANDING DEBT BY STATE\n",
        "avg_location = location.copy()\n",
        "avg_location['Average Balance (in thousands)'] = round(\n",
        "    (avg_location['Balance (in billions)'] / avg_location['Borrowers (in thousands)'])*1000,2)\n",
        "\n",
        "#SORTING IN ASCENDING ORDER\n",
        "sorted_avg = avg_location.sort_values(by=['Average Balance (in thousands)'])\n",
        "print(sorted_avg.head())\n",
        "print(sorted_avg.tail())"
      ],
      "execution_count": 172,
      "outputs": [
        {
          "output_type": "stream",
          "text": [
            "        Location  ... Average Balance (in thousands)\n",
            "39   Puerto Rico  ...                          25.30\n",
            "34  North Dakota  ...                          28.81\n",
            "51       Wyoming  ...                          28.90\n",
            "15          Iowa  ...                          29.32\n",
            "42  South Dakota  ...                          30.47\n",
            "\n",
            "[5 rows x 5 columns]\n",
            "                Location  ... Average Balance (in thousands)\n",
            "9                Florida  ...                          37.05\n",
            "47              Virginia  ...                          37.84\n",
            "10               Georgia  ...                          40.18\n",
            "20              Maryland  ...                          41.25\n",
            "8   District of Columbia  ...                          53.59\n",
            "\n",
            "[5 rows x 5 columns]\n"
          ],
          "name": "stdout"
        }
      ]
    },
    {
      "cell_type": "code",
      "metadata": {
        "id": "daQuz-FDA8gM",
        "colab_type": "code",
        "outputId": "2df8a8a5-eefb-410b-f925-bbe118eac747",
        "colab": {
          "base_uri": "https://localhost:8080/",
          "height": 221
        }
      },
      "source": [
        "#AVERAGING OUTSTANDING DEBT BY AGE IN EACH STATE\n",
        "avg_location_age = location_age.copy()\n",
        "\n",
        "#ADDING 5 COLUMNS TO SHOW AVERAGE DEBT BALANCE PER BORROWER BY AGE RANGE IN EACH STATE\n",
        "avg_location_age['24- Avg Bal (in thousands)'] = round((avg_location_age['24_or_Younger_Dollars_Outstanding'] / avg_location_age['24 _Borrowers'])*1000,2)\n",
        "avg_location_age['25-34 Avg Bal (in thousands)'] = round((avg_location_age['25_to_34_Dollars_Outstanding'] / avg_location_age['25 _Borrowers'])*1000,2)\n",
        "avg_location_age['35-49 Avg Bal(in thousands)'] = round((avg_location_age['35_to_49_Dollars_Outstanding'] / avg_location_age['35 _Borrowers'])*1000,2)\n",
        "avg_location_age['50-61 Avg Bal (in thousands)'] = round((avg_location_age['50_to_61_Dollars_Outstanding'] / avg_location_age['50 _Borrowers'])*1000,2)\n",
        "avg_location_age['62+ Avg Bal (in thousands)'] = round((avg_location_age['62_and_Older_Dollars_Outstanding'] / avg_location_age['62 _Borrowers'])*1000,2)\n",
        "\n",
        "#DROPPING COLUMNS DONT NEED\n",
        "avg_location_age = avg_location_age[['State','24- Avg Bal (in thousands)','25-34 Avg Bal (in thousands)',\n",
        "                    '35-49 Avg Bal(in thousands)','50-61 Avg Bal (in thousands)',\n",
        "                    '62+ Avg Bal (in thousands)']]\n",
        "\n",
        "avg_location_age.sample(5)\n"
      ],
      "execution_count": 173,
      "outputs": [
        {
          "output_type": "execute_result",
          "data": {
            "text/html": [
              "<div>\n",
              "<style scoped>\n",
              "    .dataframe tbody tr th:only-of-type {\n",
              "        vertical-align: middle;\n",
              "    }\n",
              "\n",
              "    .dataframe tbody tr th {\n",
              "        vertical-align: top;\n",
              "    }\n",
              "\n",
              "    .dataframe thead th {\n",
              "        text-align: right;\n",
              "    }\n",
              "</style>\n",
              "<table border=\"1\" class=\"dataframe\">\n",
              "  <thead>\n",
              "    <tr style=\"text-align: right;\">\n",
              "      <th></th>\n",
              "      <th>State</th>\n",
              "      <th>24- Avg Bal (in thousands)</th>\n",
              "      <th>25-34 Avg Bal (in thousands)</th>\n",
              "      <th>35-49 Avg Bal(in thousands)</th>\n",
              "      <th>50-61 Avg Bal (in thousands)</th>\n",
              "      <th>62+ Avg Bal (in thousands)</th>\n",
              "    </tr>\n",
              "  </thead>\n",
              "  <tbody>\n",
              "    <tr>\n",
              "      <th>46</th>\n",
              "      <td>VT</td>\n",
              "      <td>15.34</td>\n",
              "      <td>34.47</td>\n",
              "      <td>49.71</td>\n",
              "      <td>49.46</td>\n",
              "      <td>54.84</td>\n",
              "    </tr>\n",
              "    <tr>\n",
              "      <th>15</th>\n",
              "      <td>IA</td>\n",
              "      <td>14.20</td>\n",
              "      <td>29.58</td>\n",
              "      <td>38.63</td>\n",
              "      <td>36.07</td>\n",
              "      <td>36.67</td>\n",
              "    </tr>\n",
              "    <tr>\n",
              "      <th>4</th>\n",
              "      <td>CA</td>\n",
              "      <td>13.81</td>\n",
              "      <td>34.58</td>\n",
              "      <td>46.41</td>\n",
              "      <td>42.35</td>\n",
              "      <td>41.10</td>\n",
              "    </tr>\n",
              "    <tr>\n",
              "      <th>49</th>\n",
              "      <td>WV</td>\n",
              "      <td>14.16</td>\n",
              "      <td>31.81</td>\n",
              "      <td>38.78</td>\n",
              "      <td>34.77</td>\n",
              "      <td>34.33</td>\n",
              "    </tr>\n",
              "    <tr>\n",
              "      <th>6</th>\n",
              "      <td>CT</td>\n",
              "      <td>16.41</td>\n",
              "      <td>34.51</td>\n",
              "      <td>41.84</td>\n",
              "      <td>47.00</td>\n",
              "      <td>50.57</td>\n",
              "    </tr>\n",
              "  </tbody>\n",
              "</table>\n",
              "</div>"
            ],
            "text/plain": [
              "   State  ...  62+ Avg Bal (in thousands)\n",
              "46    VT  ...                       54.84\n",
              "15    IA  ...                       36.67\n",
              "4     CA  ...                       41.10\n",
              "49    WV  ...                       34.33\n",
              "6     CT  ...                       50.57\n",
              "\n",
              "[5 rows x 6 columns]"
            ]
          },
          "metadata": {
            "tags": []
          },
          "execution_count": 173
        }
      ]
    },
    {
      "cell_type": "markdown",
      "metadata": {
        "id": "4F2M9FjTBzwn",
        "colab_type": "text"
      },
      "source": [
        "#Percentages"
      ]
    },
    {
      "cell_type": "code",
      "metadata": {
        "id": "3R4gtaf-B27s",
        "colab_type": "code",
        "outputId": "a36ad9a1-55e6-4476-f210-2516d439986a",
        "colab": {
          "base_uri": "https://localhost:8080/",
          "height": 258
        }
      },
      "source": [
        "#FINDING TOTAL OUTSTANDING DEBT BY AGE FOR WHOLE COUNTRY\n",
        "per_outstanding_age = location_age.copy()\n",
        "\n",
        "#DROPPING COLUMNS DONT NEED\n",
        "per_outstanding_age = per_outstanding_age[['State',\n",
        "                                           '24_or_Younger_Dollars_Outstanding',\n",
        "                                           '25_to_34_Dollars_Outstanding',\n",
        "                                           '35_to_49_Dollars_Outstanding',\n",
        "                                           '50_to_61_Dollars_Outstanding',\n",
        "                                           '62_and_Older_Dollars_Outstanding']]\n",
        "#ADDING SUM ROW\n",
        "per_outstanding_age1 = per_outstanding_age.append({'State': 'All Debt',\n",
        "                                                   '24_or_Younger_Dollars_Outstanding' : (per_outstanding_age['24_or_Younger_Dollars_Outstanding'].sum()),\n",
        "                                                   '25_to_34_Dollars_Outstanding' : (per_outstanding_age['25_to_34_Dollars_Outstanding'].sum()),\n",
        "                                                   '35_to_49_Dollars_Outstanding' : (per_outstanding_age['35_to_49_Dollars_Outstanding'].sum()),\n",
        "                                                   '50_to_61_Dollars_Outstanding' : (per_outstanding_age['50_to_61_Dollars_Outstanding'].sum()),\n",
        "                                                   '62_and_Older_Dollars_Outstanding' : (per_outstanding_age['62_and_Older_Dollars_Outstanding'].sum())},\n",
        "                                                  ignore_index=True)\n",
        "\n",
        "\n",
        "#Summing All Debt in 50 states, PR, and DC\n",
        "print('Sum of all debt across age ranges (in millions):',per_outstanding_age1.iloc[52,1:6].sum())\n",
        "per_outstanding_age1.tail()"
      ],
      "execution_count": 174,
      "outputs": [
        {
          "output_type": "stream",
          "text": [
            "Sum of all debt across age ranges (in millions): 1392.8300000000002\n"
          ],
          "name": "stdout"
        },
        {
          "output_type": "execute_result",
          "data": {
            "text/html": [
              "<div>\n",
              "<style scoped>\n",
              "    .dataframe tbody tr th:only-of-type {\n",
              "        vertical-align: middle;\n",
              "    }\n",
              "\n",
              "    .dataframe tbody tr th {\n",
              "        vertical-align: top;\n",
              "    }\n",
              "\n",
              "    .dataframe thead th {\n",
              "        text-align: right;\n",
              "    }\n",
              "</style>\n",
              "<table border=\"1\" class=\"dataframe\">\n",
              "  <thead>\n",
              "    <tr style=\"text-align: right;\">\n",
              "      <th></th>\n",
              "      <th>State</th>\n",
              "      <th>24_or_Younger_Dollars_Outstanding</th>\n",
              "      <th>25_to_34_Dollars_Outstanding</th>\n",
              "      <th>35_to_49_Dollars_Outstanding</th>\n",
              "      <th>50_to_61_Dollars_Outstanding</th>\n",
              "      <th>62_and_Older_Dollars_Outstanding</th>\n",
              "    </tr>\n",
              "  </thead>\n",
              "  <tbody>\n",
              "    <tr>\n",
              "      <th>48</th>\n",
              "      <td>WA</td>\n",
              "      <td>1.72</td>\n",
              "      <td>8.93</td>\n",
              "      <td>10.13</td>\n",
              "      <td>4.04</td>\n",
              "      <td>1.19</td>\n",
              "    </tr>\n",
              "    <tr>\n",
              "      <th>49</th>\n",
              "      <td>WV</td>\n",
              "      <td>0.63</td>\n",
              "      <td>2.36</td>\n",
              "      <td>2.66</td>\n",
              "      <td>0.89</td>\n",
              "      <td>0.23</td>\n",
              "    </tr>\n",
              "    <tr>\n",
              "      <th>50</th>\n",
              "      <td>WI</td>\n",
              "      <td>2.52</td>\n",
              "      <td>8.39</td>\n",
              "      <td>7.49</td>\n",
              "      <td>2.85</td>\n",
              "      <td>0.69</td>\n",
              "    </tr>\n",
              "    <tr>\n",
              "      <th>51</th>\n",
              "      <td>WY</td>\n",
              "      <td>0.10</td>\n",
              "      <td>0.49</td>\n",
              "      <td>0.65</td>\n",
              "      <td>0.23</td>\n",
              "      <td>0.07</td>\n",
              "    </tr>\n",
              "    <tr>\n",
              "      <th>52</th>\n",
              "      <td>All Debt</td>\n",
              "      <td>120.99</td>\n",
              "      <td>496.15</td>\n",
              "      <td>502.35</td>\n",
              "      <td>213.43</td>\n",
              "      <td>59.91</td>\n",
              "    </tr>\n",
              "  </tbody>\n",
              "</table>\n",
              "</div>"
            ],
            "text/plain": [
              "       State  ...  62_and_Older_Dollars_Outstanding\n",
              "48        WA  ...                              1.19\n",
              "49        WV  ...                              0.23\n",
              "50        WI  ...                              0.69\n",
              "51        WY  ...                              0.07\n",
              "52  All Debt  ...                             59.91\n",
              "\n",
              "[5 rows x 6 columns]"
            ]
          },
          "metadata": {
            "tags": []
          },
          "execution_count": 174
        }
      ]
    },
    {
      "cell_type": "code",
      "metadata": {
        "id": "NFPfd32TDPb8",
        "colab_type": "code",
        "outputId": "4714ce5a-1d59-47e8-8ec9-7f80c7244a78",
        "colab": {
          "base_uri": "https://localhost:8080/",
          "height": 241
        }
      },
      "source": [
        "#ADDNG ROW (Percent of debt outstanding per age range)\n",
        "per_outstanding_age1 = per_outstanding_age1.append({'State': 'Debt',\n",
        "                                                   '24_or_Younger_Dollars_Outstanding' : (per_outstanding_age1.iloc[52,1] / per_outstanding_age1.iloc[52,1:6].sum()),\n",
        "                                                   '25_to_34_Dollars_Outstanding' : (per_outstanding_age1.iloc[52,2] / per_outstanding_age1.iloc[52,1:6].sum()),\n",
        "                                                   '35_to_49_Dollars_Outstanding' : (per_outstanding_age1.iloc[52,3] / per_outstanding_age1.iloc[52,1:6].sum()),\n",
        "                                                   '50_to_61_Dollars_Outstanding' : (per_outstanding_age1.iloc[52,4] / per_outstanding_age1.iloc[52,1:6].sum()),\n",
        "                                                   '62_and_Older_Dollars_Outstanding' : (per_outstanding_age1.iloc[52,5] / per_outstanding_age1.iloc[52,1:6].sum())},\n",
        "                                                  ignore_index=True)\n",
        "per_outstanding_age1.tail()"
      ],
      "execution_count": 175,
      "outputs": [
        {
          "output_type": "execute_result",
          "data": {
            "text/html": [
              "<div>\n",
              "<style scoped>\n",
              "    .dataframe tbody tr th:only-of-type {\n",
              "        vertical-align: middle;\n",
              "    }\n",
              "\n",
              "    .dataframe tbody tr th {\n",
              "        vertical-align: top;\n",
              "    }\n",
              "\n",
              "    .dataframe thead th {\n",
              "        text-align: right;\n",
              "    }\n",
              "</style>\n",
              "<table border=\"1\" class=\"dataframe\">\n",
              "  <thead>\n",
              "    <tr style=\"text-align: right;\">\n",
              "      <th></th>\n",
              "      <th>State</th>\n",
              "      <th>24_or_Younger_Dollars_Outstanding</th>\n",
              "      <th>25_to_34_Dollars_Outstanding</th>\n",
              "      <th>35_to_49_Dollars_Outstanding</th>\n",
              "      <th>50_to_61_Dollars_Outstanding</th>\n",
              "      <th>62_and_Older_Dollars_Outstanding</th>\n",
              "    </tr>\n",
              "  </thead>\n",
              "  <tbody>\n",
              "    <tr>\n",
              "      <th>49</th>\n",
              "      <td>WV</td>\n",
              "      <td>0.630000</td>\n",
              "      <td>2.360000</td>\n",
              "      <td>2.660000</td>\n",
              "      <td>0.890000</td>\n",
              "      <td>0.230000</td>\n",
              "    </tr>\n",
              "    <tr>\n",
              "      <th>50</th>\n",
              "      <td>WI</td>\n",
              "      <td>2.520000</td>\n",
              "      <td>8.390000</td>\n",
              "      <td>7.490000</td>\n",
              "      <td>2.850000</td>\n",
              "      <td>0.690000</td>\n",
              "    </tr>\n",
              "    <tr>\n",
              "      <th>51</th>\n",
              "      <td>WY</td>\n",
              "      <td>0.100000</td>\n",
              "      <td>0.490000</td>\n",
              "      <td>0.650000</td>\n",
              "      <td>0.230000</td>\n",
              "      <td>0.070000</td>\n",
              "    </tr>\n",
              "    <tr>\n",
              "      <th>52</th>\n",
              "      <td>All Debt</td>\n",
              "      <td>120.990000</td>\n",
              "      <td>496.150000</td>\n",
              "      <td>502.350000</td>\n",
              "      <td>213.430000</td>\n",
              "      <td>59.910000</td>\n",
              "    </tr>\n",
              "    <tr>\n",
              "      <th>53</th>\n",
              "      <td>Debt</td>\n",
              "      <td>0.086866</td>\n",
              "      <td>0.356217</td>\n",
              "      <td>0.360669</td>\n",
              "      <td>0.153235</td>\n",
              "      <td>0.043013</td>\n",
              "    </tr>\n",
              "  </tbody>\n",
              "</table>\n",
              "</div>"
            ],
            "text/plain": [
              "       State  ...  62_and_Older_Dollars_Outstanding\n",
              "49        WV  ...                          0.230000\n",
              "50        WI  ...                          0.690000\n",
              "51        WY  ...                          0.070000\n",
              "52  All Debt  ...                         59.910000\n",
              "53      Debt  ...                          0.043013\n",
              "\n",
              "[5 rows x 6 columns]"
            ]
          },
          "metadata": {
            "tags": []
          },
          "execution_count": 175
        }
      ]
    },
    {
      "cell_type": "markdown",
      "metadata": {
        "id": "7T8RwKt-DXrr",
        "colab_type": "text"
      },
      "source": [
        "Of the outstanding student loan debt (1.393 Trillion)\n",
        "\n",
        "*   borrowers 24 and younger owe 8.69%\n",
        "*   25 to 34 owe 35.62% \n",
        "*   35 to 49 owe 36.07%\n",
        "*   50 to 61 owe 15.32%\n",
        "*   borrowers 62 and older owe 4.30%"
      ]
    },
    {
      "cell_type": "code",
      "metadata": {
        "id": "zuR7RdyEDiAZ",
        "colab_type": "code",
        "outputId": "7c3e0e0f-7981-40c6-f2f4-b29a580b01db",
        "colab": {
          "base_uri": "https://localhost:8080/",
          "height": 221
        }
      },
      "source": [
        "#FINDING TOTAL NUMBER OF BORROWERS BY AGE FOR WHOLE COUNTRY\n",
        "\n",
        "per_borrowers_age = location_age.copy()\n",
        "#DROPPING COLUMNS DONT NEED\n",
        "per_borrowers_age = per_borrowers_age.drop(['Location',\n",
        "                                            '24_or_Younger_Dollars_Outstanding',\n",
        "                                            '25_to_34_Dollars_Outstanding',\n",
        "                                            '35_to_49_Dollars_Outstanding',\n",
        "                                            '50_to_61_Dollars_Outstanding',\n",
        "                                            '62_and_Older_Dollars_Outstanding'],\n",
        "                                            axis=1)\n",
        "\n",
        "#Summing number of borrowers per age\n",
        "per_borrowers_age1 = per_borrowers_age.append({'State': 'All Borrowers',\n",
        "                                                   '24 _Borrowers' : (per_borrowers_age['24 _Borrowers'].sum()),\n",
        "                                                   '25 _Borrowers' : (per_borrowers_age['25 _Borrowers'].sum()),\n",
        "                                                   '35 _Borrowers' : (per_borrowers_age['35 _Borrowers'].sum()),\n",
        "                                                   '50 _Borrowers' : (per_borrowers_age['50 _Borrowers'].sum()),\n",
        "                                                   '62 _Borrowers' : (per_borrowers_age['62 _Borrowers'].sum())},\n",
        "                                                  ignore_index=True)\n",
        "print('Sum of borrowers across age ranges (in thousands):',per_borrowers_age1.iloc[52,1:6].sum())\n",
        "per_borrowers_age1.tail()"
      ],
      "execution_count": 176,
      "outputs": [
        {
          "output_type": "stream",
          "text": [
            "Sum of borrowers across age ranges (in thousands): 40199.700000000004\n"
          ],
          "name": "stdout"
        },
        {
          "output_type": "execute_result",
          "data": {
            "text/html": [
              "<div>\n",
              "<style scoped>\n",
              "    .dataframe tbody tr th:only-of-type {\n",
              "        vertical-align: middle;\n",
              "    }\n",
              "\n",
              "    .dataframe tbody tr th {\n",
              "        vertical-align: top;\n",
              "    }\n",
              "\n",
              "    .dataframe thead th {\n",
              "        text-align: right;\n",
              "    }\n",
              "</style>\n",
              "<table border=\"1\" class=\"dataframe\">\n",
              "  <thead>\n",
              "    <tr style=\"text-align: right;\">\n",
              "      <th></th>\n",
              "      <th>State</th>\n",
              "      <th>24 _Borrowers</th>\n",
              "      <th>25 _Borrowers</th>\n",
              "      <th>35 _Borrowers</th>\n",
              "      <th>50 _Borrowers</th>\n",
              "      <th>62 _Borrowers</th>\n",
              "    </tr>\n",
              "  </thead>\n",
              "  <tbody>\n",
              "    <tr>\n",
              "      <th>48</th>\n",
              "      <td>WA</td>\n",
              "      <td>128.0</td>\n",
              "      <td>278.0</td>\n",
              "      <td>233.1</td>\n",
              "      <td>97.4</td>\n",
              "      <td>28.6</td>\n",
              "    </tr>\n",
              "    <tr>\n",
              "      <th>49</th>\n",
              "      <td>WV</td>\n",
              "      <td>44.5</td>\n",
              "      <td>74.2</td>\n",
              "      <td>68.6</td>\n",
              "      <td>25.6</td>\n",
              "      <td>6.7</td>\n",
              "    </tr>\n",
              "    <tr>\n",
              "      <th>50</th>\n",
              "      <td>WI</td>\n",
              "      <td>170.3</td>\n",
              "      <td>267.7</td>\n",
              "      <td>182.7</td>\n",
              "      <td>72.9</td>\n",
              "      <td>17.9</td>\n",
              "    </tr>\n",
              "    <tr>\n",
              "      <th>51</th>\n",
              "      <td>WY</td>\n",
              "      <td>9.2</td>\n",
              "      <td>18.3</td>\n",
              "      <td>16.6</td>\n",
              "      <td>6.0</td>\n",
              "      <td>1.8</td>\n",
              "    </tr>\n",
              "    <tr>\n",
              "      <th>52</th>\n",
              "      <td>All Borrowers</td>\n",
              "      <td>8193.6</td>\n",
              "      <td>14444.9</td>\n",
              "      <td>11132.2</td>\n",
              "      <td>4984.4</td>\n",
              "      <td>1444.6</td>\n",
              "    </tr>\n",
              "  </tbody>\n",
              "</table>\n",
              "</div>"
            ],
            "text/plain": [
              "            State  24 _Borrowers  ...  50 _Borrowers  62 _Borrowers\n",
              "48             WA          128.0  ...           97.4           28.6\n",
              "49             WV           44.5  ...           25.6            6.7\n",
              "50             WI          170.3  ...           72.9           17.9\n",
              "51             WY            9.2  ...            6.0            1.8\n",
              "52  All Borrowers         8193.6  ...         4984.4         1444.6\n",
              "\n",
              "[5 rows x 6 columns]"
            ]
          },
          "metadata": {
            "tags": []
          },
          "execution_count": 176
        }
      ]
    },
    {
      "cell_type": "code",
      "metadata": {
        "id": "wQ8tEDMCEHk8",
        "colab_type": "code",
        "outputId": "aa9a5974-a3f3-429b-d44e-25fd5497159d",
        "colab": {
          "base_uri": "https://localhost:8080/",
          "height": 204
        }
      },
      "source": [
        "#Percent of borrowers per age range\n",
        "per_borrowers_age1 = per_borrowers_age1.append({'State': 'Borrowers',\n",
        "                                                   '24 _Borrowers' : (per_borrowers_age1.iloc[52,1] / per_borrowers_age1.iloc[52,1:6].sum()),\n",
        "                                                   '25 _Borrowers' : (per_borrowers_age1.iloc[52,2] / per_borrowers_age1.iloc[52,1:6].sum()),\n",
        "                                                   '35 _Borrowers' : (per_borrowers_age1.iloc[52,3] / per_borrowers_age1.iloc[52,1:6].sum()),\n",
        "                                                   '50 _Borrowers' : (per_borrowers_age1.iloc[52,4] / per_borrowers_age1.iloc[52,1:6].sum()),\n",
        "                                                   '62 _Borrowers' : (per_borrowers_age1.iloc[52,5] / per_borrowers_age1.iloc[52,1:6].sum())},\n",
        "                                                  ignore_index=True)\n",
        "per_borrowers_age1.tail()"
      ],
      "execution_count": 177,
      "outputs": [
        {
          "output_type": "execute_result",
          "data": {
            "text/html": [
              "<div>\n",
              "<style scoped>\n",
              "    .dataframe tbody tr th:only-of-type {\n",
              "        vertical-align: middle;\n",
              "    }\n",
              "\n",
              "    .dataframe tbody tr th {\n",
              "        vertical-align: top;\n",
              "    }\n",
              "\n",
              "    .dataframe thead th {\n",
              "        text-align: right;\n",
              "    }\n",
              "</style>\n",
              "<table border=\"1\" class=\"dataframe\">\n",
              "  <thead>\n",
              "    <tr style=\"text-align: right;\">\n",
              "      <th></th>\n",
              "      <th>State</th>\n",
              "      <th>24 _Borrowers</th>\n",
              "      <th>25 _Borrowers</th>\n",
              "      <th>35 _Borrowers</th>\n",
              "      <th>50 _Borrowers</th>\n",
              "      <th>62 _Borrowers</th>\n",
              "    </tr>\n",
              "  </thead>\n",
              "  <tbody>\n",
              "    <tr>\n",
              "      <th>49</th>\n",
              "      <td>WV</td>\n",
              "      <td>44.500000</td>\n",
              "      <td>74.200000</td>\n",
              "      <td>68.600000</td>\n",
              "      <td>25.600000</td>\n",
              "      <td>6.700000</td>\n",
              "    </tr>\n",
              "    <tr>\n",
              "      <th>50</th>\n",
              "      <td>WI</td>\n",
              "      <td>170.300000</td>\n",
              "      <td>267.700000</td>\n",
              "      <td>182.700000</td>\n",
              "      <td>72.900000</td>\n",
              "      <td>17.900000</td>\n",
              "    </tr>\n",
              "    <tr>\n",
              "      <th>51</th>\n",
              "      <td>WY</td>\n",
              "      <td>9.200000</td>\n",
              "      <td>18.300000</td>\n",
              "      <td>16.600000</td>\n",
              "      <td>6.000000</td>\n",
              "      <td>1.800000</td>\n",
              "    </tr>\n",
              "    <tr>\n",
              "      <th>52</th>\n",
              "      <td>All Borrowers</td>\n",
              "      <td>8193.600000</td>\n",
              "      <td>14444.900000</td>\n",
              "      <td>11132.200000</td>\n",
              "      <td>4984.400000</td>\n",
              "      <td>1444.600000</td>\n",
              "    </tr>\n",
              "    <tr>\n",
              "      <th>53</th>\n",
              "      <td>Borrowers</td>\n",
              "      <td>0.203822</td>\n",
              "      <td>0.359329</td>\n",
              "      <td>0.276922</td>\n",
              "      <td>0.123991</td>\n",
              "      <td>0.035936</td>\n",
              "    </tr>\n",
              "  </tbody>\n",
              "</table>\n",
              "</div>"
            ],
            "text/plain": [
              "            State  24 _Borrowers  ...  50 _Borrowers  62 _Borrowers\n",
              "49             WV      44.500000  ...      25.600000       6.700000\n",
              "50             WI     170.300000  ...      72.900000      17.900000\n",
              "51             WY       9.200000  ...       6.000000       1.800000\n",
              "52  All Borrowers    8193.600000  ...    4984.400000    1444.600000\n",
              "53      Borrowers       0.203822  ...       0.123991       0.035936\n",
              "\n",
              "[5 rows x 6 columns]"
            ]
          },
          "metadata": {
            "tags": []
          },
          "execution_count": 177
        }
      ]
    },
    {
      "cell_type": "markdown",
      "metadata": {
        "id": "LvbZzQPlEvMI",
        "colab_type": "text"
      },
      "source": [
        "Of the total numberr of borrowers (40.199 Million)\n",
        "\n",
        "\n",
        "*   % of total borrowers that are 24 or younger 20.38%\n",
        "*   25 to 34 are 35.93% \n",
        "*   35 to 49 are 27.69%\n",
        "*   50 to 61 are 12.40%\n",
        "*   % 62 and older are 3.59%\n"
      ]
    },
    {
      "cell_type": "code",
      "metadata": {
        "id": "NAtNBAz1FXJB",
        "colab_type": "code",
        "outputId": "113de779-73d4-41c8-85ea-6d3df903b586",
        "colab": {
          "base_uri": "https://localhost:8080/",
          "height": 235
        }
      },
      "source": [
        "#NEW DF WITH PER OF DEBT AND BORROWERS FOR EACH AGE\n",
        "percent_debt = per_outstanding_age1.iloc[52::,]\n",
        "percent_debt.columns = ['State', '24', '25', '35', '50', '62']\n",
        "percent_borrowers = per_borrowers_age1.iloc[52::,]\n",
        "percent_borrowers.columns = ['State', '24', '25', '35', '50', '62']\n",
        "percent_debt_and_borrowers = percent_debt.append(percent_borrowers)\n",
        "\n",
        "#RESETING INDEX TO O and DROPPING PRIOR INDEX\n",
        "percent_debt_and_borrowers1 = percent_debt_and_borrowers.reset_index()\n",
        "percent_debt_and_borrowers1 = percent_debt_and_borrowers1.drop(columns=['index'], axis=1)\n",
        "\n",
        "percent_debt_and_borrowers1.T"
      ],
      "execution_count": 178,
      "outputs": [
        {
          "output_type": "execute_result",
          "data": {
            "text/html": [
              "<div>\n",
              "<style scoped>\n",
              "    .dataframe tbody tr th:only-of-type {\n",
              "        vertical-align: middle;\n",
              "    }\n",
              "\n",
              "    .dataframe tbody tr th {\n",
              "        vertical-align: top;\n",
              "    }\n",
              "\n",
              "    .dataframe thead th {\n",
              "        text-align: right;\n",
              "    }\n",
              "</style>\n",
              "<table border=\"1\" class=\"dataframe\">\n",
              "  <thead>\n",
              "    <tr style=\"text-align: right;\">\n",
              "      <th></th>\n",
              "      <th>0</th>\n",
              "      <th>1</th>\n",
              "      <th>2</th>\n",
              "      <th>3</th>\n",
              "    </tr>\n",
              "  </thead>\n",
              "  <tbody>\n",
              "    <tr>\n",
              "      <th>State</th>\n",
              "      <td>All Debt</td>\n",
              "      <td>Debt</td>\n",
              "      <td>All Borrowers</td>\n",
              "      <td>Borrowers</td>\n",
              "    </tr>\n",
              "    <tr>\n",
              "      <th>24</th>\n",
              "      <td>120.99</td>\n",
              "      <td>0.0868663</td>\n",
              "      <td>8193.6</td>\n",
              "      <td>0.203822</td>\n",
              "    </tr>\n",
              "    <tr>\n",
              "      <th>25</th>\n",
              "      <td>496.15</td>\n",
              "      <td>0.356217</td>\n",
              "      <td>14444.9</td>\n",
              "      <td>0.359329</td>\n",
              "    </tr>\n",
              "    <tr>\n",
              "      <th>35</th>\n",
              "      <td>502.35</td>\n",
              "      <td>0.360669</td>\n",
              "      <td>11132.2</td>\n",
              "      <td>0.276922</td>\n",
              "    </tr>\n",
              "    <tr>\n",
              "      <th>50</th>\n",
              "      <td>213.43</td>\n",
              "      <td>0.153235</td>\n",
              "      <td>4984.4</td>\n",
              "      <td>0.123991</td>\n",
              "    </tr>\n",
              "    <tr>\n",
              "      <th>62</th>\n",
              "      <td>59.91</td>\n",
              "      <td>0.0430131</td>\n",
              "      <td>1444.6</td>\n",
              "      <td>0.0359356</td>\n",
              "    </tr>\n",
              "  </tbody>\n",
              "</table>\n",
              "</div>"
            ],
            "text/plain": [
              "              0          1              2          3\n",
              "State  All Debt       Debt  All Borrowers  Borrowers\n",
              "24       120.99  0.0868663         8193.6   0.203822\n",
              "25       496.15   0.356217        14444.9   0.359329\n",
              "35       502.35   0.360669        11132.2   0.276922\n",
              "50       213.43   0.153235         4984.4   0.123991\n",
              "62        59.91  0.0430131         1444.6  0.0359356"
            ]
          },
          "metadata": {
            "tags": []
          },
          "execution_count": 178
        }
      ]
    },
    {
      "cell_type": "code",
      "metadata": {
        "id": "uR6uboPUGH6P",
        "colab_type": "code",
        "outputId": "2465d9d4-c7a1-4e9d-db86-54a0c0a5a0d7",
        "colab": {
          "base_uri": "https://localhost:8080/",
          "height": 204
        }
      },
      "source": [
        "#AVERAGE OUTSTANDING DEBT BY AGE RANGE\n",
        "p= pd.DataFrame(percent_debt_and_borrowers1.T.iloc[1:,[0,2]])\n",
        "p['Avg Debt'] = (p[0]/p[2]*1000)\n",
        "p"
      ],
      "execution_count": 179,
      "outputs": [
        {
          "output_type": "execute_result",
          "data": {
            "text/html": [
              "<div>\n",
              "<style scoped>\n",
              "    .dataframe tbody tr th:only-of-type {\n",
              "        vertical-align: middle;\n",
              "    }\n",
              "\n",
              "    .dataframe tbody tr th {\n",
              "        vertical-align: top;\n",
              "    }\n",
              "\n",
              "    .dataframe thead th {\n",
              "        text-align: right;\n",
              "    }\n",
              "</style>\n",
              "<table border=\"1\" class=\"dataframe\">\n",
              "  <thead>\n",
              "    <tr style=\"text-align: right;\">\n",
              "      <th></th>\n",
              "      <th>0</th>\n",
              "      <th>2</th>\n",
              "      <th>Avg Debt</th>\n",
              "    </tr>\n",
              "  </thead>\n",
              "  <tbody>\n",
              "    <tr>\n",
              "      <th>24</th>\n",
              "      <td>120.99</td>\n",
              "      <td>8193.6</td>\n",
              "      <td>14.7664</td>\n",
              "    </tr>\n",
              "    <tr>\n",
              "      <th>25</th>\n",
              "      <td>496.15</td>\n",
              "      <td>14444.9</td>\n",
              "      <td>34.3478</td>\n",
              "    </tr>\n",
              "    <tr>\n",
              "      <th>35</th>\n",
              "      <td>502.35</td>\n",
              "      <td>11132.2</td>\n",
              "      <td>45.1259</td>\n",
              "    </tr>\n",
              "    <tr>\n",
              "      <th>50</th>\n",
              "      <td>213.43</td>\n",
              "      <td>4984.4</td>\n",
              "      <td>42.8196</td>\n",
              "    </tr>\n",
              "    <tr>\n",
              "      <th>62</th>\n",
              "      <td>59.91</td>\n",
              "      <td>1444.6</td>\n",
              "      <td>41.4717</td>\n",
              "    </tr>\n",
              "  </tbody>\n",
              "</table>\n",
              "</div>"
            ],
            "text/plain": [
              "         0        2 Avg Debt\n",
              "24  120.99   8193.6  14.7664\n",
              "25  496.15  14444.9  34.3478\n",
              "35  502.35  11132.2  45.1259\n",
              "50  213.43   4984.4  42.8196\n",
              "62   59.91   1444.6  41.4717"
            ]
          },
          "metadata": {
            "tags": []
          },
          "execution_count": 179
        }
      ]
    },
    {
      "cell_type": "markdown",
      "metadata": {
        "id": "Dnd5D_l2GR1y",
        "colab_type": "text"
      },
      "source": [
        "# Visualizations"
      ]
    },
    {
      "cell_type": "code",
      "metadata": {
        "id": "H_pYMv_BGRBS",
        "colab_type": "code",
        "colab": {}
      },
      "source": [
        "#AVG DEBT PER BORROWER BY STATE (EXCLUDING PR and DC)\n",
        "sorted_avg1 = sorted_avg.drop([39,8])\n",
        "sorted_avg1 = sorted_avg1[['State','Average Balance (in thousands)']]"
      ],
      "execution_count": 0,
      "outputs": []
    },
    {
      "cell_type": "code",
      "metadata": {
        "id": "FFMbNL6vGhzA",
        "colab_type": "code",
        "outputId": "af660ae0-5b8e-49cb-eacc-ef01ea82f7d5",
        "colab": {
          "base_uri": "https://localhost:8080/",
          "height": 567
        }
      },
      "source": [
        "#PLOTTING STATE VS AVERAGE DEBT OUSTANDING PER BORROWER IN ASCENDING ORDER\n",
        "fig,ax = plt.subplots(figsize=(25,8))\n",
        "ax.set_facecolor('#f5fafc')\n",
        "plt.scatter(sorted_avg1['State'],sorted_avg1['Average Balance (in thousands)'],\n",
        "            c='#D76B52', marker='o')\n",
        "plt.ylim(27,43)\n",
        "plt.xlim(-.5,50)\n",
        "plt.title('2019 US Average Outstanding Student Loan Debt per Borrower by State', fontsize=25)\n",
        "plt.xlabel('States', size=20, labelpad=15)\n",
        "plt.ylabel(\"Average Debt per Borrower (in 000's)\", size=16, labelpad=15)\n",
        "plt.savefig('scatter.png',dpi=400)\n",
        "ax.spines['top'].set_visible(False)\n",
        "ax.spines['right'].set_visible(False)\n",
        "ax.grid(linestyle='--', linewidth='0.1')\n",
        "plt.text(0,25,'Source: Federal Student Aid Data Center')\n",
        "plt.savefig('scatter.png',dpi=800)\n",
        "plt.show();"
      ],
      "execution_count": 181,
      "outputs": [
        {
          "output_type": "display_data",
          "data": {
            "image/png": "[encoded data removed]",
            "text/plain": [
              "<Figure size 1800x576 with 1 Axes>"
            ]
          },
          "metadata": {
            "tags": []
          }
        }
      ]
    },
    {
      "cell_type": "code",
      "metadata": {
        "id": "575ZJX2JGpg5",
        "colab_type": "code",
        "outputId": "4c12f9f1-198f-41db-c48f-f989f63819c5",
        "colab": {
          "base_uri": "https://localhost:8080/",
          "height": 204
        }
      },
      "source": [
        "#AVERAGE OUTSTANDING DEBT BY AGE RANGE\n",
        "debt_by_age = pd.DataFrame(p['Avg Debt'])\n",
        "debt_by_age"
      ],
      "execution_count": 182,
      "outputs": [
        {
          "output_type": "execute_result",
          "data": {
            "text/html": [
              "<div>\n",
              "<style scoped>\n",
              "    .dataframe tbody tr th:only-of-type {\n",
              "        vertical-align: middle;\n",
              "    }\n",
              "\n",
              "    .dataframe tbody tr th {\n",
              "        vertical-align: top;\n",
              "    }\n",
              "\n",
              "    .dataframe thead th {\n",
              "        text-align: right;\n",
              "    }\n",
              "</style>\n",
              "<table border=\"1\" class=\"dataframe\">\n",
              "  <thead>\n",
              "    <tr style=\"text-align: right;\">\n",
              "      <th></th>\n",
              "      <th>Avg Debt</th>\n",
              "    </tr>\n",
              "  </thead>\n",
              "  <tbody>\n",
              "    <tr>\n",
              "      <th>24</th>\n",
              "      <td>14.7664</td>\n",
              "    </tr>\n",
              "    <tr>\n",
              "      <th>25</th>\n",
              "      <td>34.3478</td>\n",
              "    </tr>\n",
              "    <tr>\n",
              "      <th>35</th>\n",
              "      <td>45.1259</td>\n",
              "    </tr>\n",
              "    <tr>\n",
              "      <th>50</th>\n",
              "      <td>42.8196</td>\n",
              "    </tr>\n",
              "    <tr>\n",
              "      <th>62</th>\n",
              "      <td>41.4717</td>\n",
              "    </tr>\n",
              "  </tbody>\n",
              "</table>\n",
              "</div>"
            ],
            "text/plain": [
              "   Avg Debt\n",
              "24  14.7664\n",
              "25  34.3478\n",
              "35  45.1259\n",
              "50  42.8196\n",
              "62  41.4717"
            ]
          },
          "metadata": {
            "tags": []
          },
          "execution_count": 182
        }
      ]
    },
    {
      "cell_type": "code",
      "metadata": {
        "id": "UuyU55iPHPOb",
        "colab_type": "code",
        "outputId": "8589073c-bc28-4632-ca58-f20d80fbf83e",
        "colab": {
          "base_uri": "https://localhost:8080/",
          "height": 571
        }
      },
      "source": [
        "fig,ax = plt.subplots(figsize=(10,8))\n",
        "\n",
        "N = 2 # NUMBER OF BARS (one for % of debt, and % of borrowers per age)\n",
        "p24 = percent_debt_and_borrowers1.T.iloc[1,[1,3]] #selecting %debt and %borrowers 24 and younger\n",
        "p25 = percent_debt_and_borrowers1.T.iloc[2,[1,3]]\n",
        "p35 = percent_debt_and_borrowers1.T.iloc[3,[1,3]]\n",
        "p50 = percent_debt_and_borrowers1.T.iloc[4,[1,3]]\n",
        "p62 = percent_debt_and_borrowers1.T.iloc[5,[1,3]]\n",
        "\n",
        "ind = np.arange(N)\n",
        "width = .35\n",
        "\n",
        "#Stacking bar at y coordinate\n",
        "p1 = plt.bar(ind, p24, width, color = '#D76B52', edgecolor='black')\n",
        "p2 = plt.bar(ind, p25, width, bottom=p24, color = '#F1A285', edgecolor='black') \n",
        "p3 = plt.bar(ind, p35, width, bottom=p24 + p25,\n",
        "             color ='#E1EEF6', edgecolor='black') \n",
        "p4 = plt.bar(ind, p50, width, bottom=p24 + p25 + p35,\n",
        "             color = '#A5CCE0', edgecolor='black')\n",
        "p5 = plt.bar(ind, p62, width, bottom=p24 + p25 + p35 + p50,\n",
        "             color = '#78AFCE', edgecolor='black')\n",
        "\n",
        "#TITLES and LABELS\n",
        "plt.title('Outstanding Student Loan Debt and Number of Borrowers',\n",
        "          size=18, pad=25)\n",
        "plt.text(.33, 1.04,'by Age Range', fontsize = 18)\n",
        "plt.ylabel('Percentage', size=15, labelpad=15)\n",
        "plt.xticks(ind, ('Debt Outstanding', 'Number of Borrowers'), size = 15)\n",
        "plt.legend((p1[0], p2[0],p3[0],p4[0],p5[0]), ('24 and Younger', '25 - 34',\n",
        "                                              '35 - 49','50 - 61',\n",
        "                                              '62 and Older'),prop={'size': 15})\n",
        "#BAR TEXT\n",
        "x=['8.69%','35.62%','36.07%','15.32%','4.30%']\n",
        "y=['20.38%','35.93%','27.69%','12.40%','3.59%']\n",
        "plt.text(-.05,.01,s= x[0])\n",
        "plt.text(-.05,.10,s= x[1])\n",
        "plt.text(-.05,.46,s= x[2])\n",
        "plt.text(-.05,.815,s= x[3])\n",
        "plt.text(-.04,.965,s= x[4])\n",
        "#second bar\n",
        "plt.text(.95,.01,s= y[0])\n",
        "plt.text(.95,.215,s= y[1])\n",
        "plt.text(.95,.575,s= y[2])\n",
        "plt.text(.95,.85,s= y[3])\n",
        "plt.text(.96,.97,s= y[4])\n",
        "\n",
        "#BELOW GRAPH TEXT\n",
        "plt.text(-.1,-.09,'($1.5 Trillion)', size=12)\n",
        "plt.text(.91,-.09,'(45.5 Million)', size=12)\n",
        "plt.text(.7,-.155,'Source: Federal Student Aid Data Center')\n",
        "\n",
        "\n",
        "#SPINES OFF\n",
        "ax.spines['top'].set_visible(False)\n",
        "ax.spines['right'].set_visible(False)\n",
        "\n",
        "plt.savefig('bar.png',dpi=400)\n",
        "plt.show()"
      ],
      "execution_count": 183,
      "outputs": [
        {
          "output_type": "display_data",
          "data": {
            "image/png": "[encoded data removed]",
            "text/plain": [
              "<Figure size 720x576 with 1 Axes>"
            ]
          },
          "metadata": {
            "tags": []
          }
        }
      ]
    },
    {
      "cell_type": "code",
      "metadata": {
        "id": "1fJ17m2XHTR1",
        "colab_type": "code",
        "outputId": "71d6e601-5656-4063-8c78-342983b158f0",
        "colab": {
          "base_uri": "https://localhost:8080/",
          "height": 204
        }
      },
      "source": [
        "#Removing all but 24 and younger age range\n",
        "avg_location_24 = avg_location_age.copy()\n",
        "avg_location_24 = avg_location_24.drop(columns=['25-34 Avg Bal (in thousands)',\n",
        "                                                '35-49 Avg Bal(in thousands)',\n",
        "                                                '50-61 Avg Bal (in thousands)',\n",
        "                                                '62+ Avg Bal (in thousands)'])\n",
        "avg_location_24.sample(5)"
      ],
      "execution_count": 184,
      "outputs": [
        {
          "output_type": "execute_result",
          "data": {
            "text/html": [
              "<div>\n",
              "<style scoped>\n",
              "    .dataframe tbody tr th:only-of-type {\n",
              "        vertical-align: middle;\n",
              "    }\n",
              "\n",
              "    .dataframe tbody tr th {\n",
              "        vertical-align: top;\n",
              "    }\n",
              "\n",
              "    .dataframe thead th {\n",
              "        text-align: right;\n",
              "    }\n",
              "</style>\n",
              "<table border=\"1\" class=\"dataframe\">\n",
              "  <thead>\n",
              "    <tr style=\"text-align: right;\">\n",
              "      <th></th>\n",
              "      <th>State</th>\n",
              "      <th>24- Avg Bal (in thousands)</th>\n",
              "    </tr>\n",
              "  </thead>\n",
              "  <tbody>\n",
              "    <tr>\n",
              "      <th>3</th>\n",
              "      <td>AR</td>\n",
              "      <td>13.46</td>\n",
              "    </tr>\n",
              "    <tr>\n",
              "      <th>4</th>\n",
              "      <td>CA</td>\n",
              "      <td>13.81</td>\n",
              "    </tr>\n",
              "    <tr>\n",
              "      <th>31</th>\n",
              "      <td>NM</td>\n",
              "      <td>11.29</td>\n",
              "    </tr>\n",
              "    <tr>\n",
              "      <th>26</th>\n",
              "      <td>MT</td>\n",
              "      <td>12.72</td>\n",
              "    </tr>\n",
              "    <tr>\n",
              "      <th>36</th>\n",
              "      <td>OK</td>\n",
              "      <td>12.80</td>\n",
              "    </tr>\n",
              "  </tbody>\n",
              "</table>\n",
              "</div>"
            ],
            "text/plain": [
              "   State  24- Avg Bal (in thousands)\n",
              "3     AR                       13.46\n",
              "4     CA                       13.81\n",
              "31    NM                       11.29\n",
              "26    MT                       12.72\n",
              "36    OK                       12.80"
            ]
          },
          "metadata": {
            "tags": []
          },
          "execution_count": 184
        }
      ]
    },
    {
      "cell_type": "code",
      "metadata": {
        "id": "SS2acrXTcsPD",
        "colab_type": "code",
        "colab": {
          "base_uri": "https://localhost:8080/",
          "height": 542
        },
        "outputId": "d167acf6-65e9-42a1-a4f9-aeb29e0235e3"
      },
      "source": [
        "'''\n",
        "import chart_studio\n",
        "username='Avery1493'\n",
        "api_key = '0LM4OKdaZTXSmKIgCrqD'\n",
        "\n",
        "chart_studio.tools.set_credentials_file(username=username, api_key=api_key)\n",
        "\n",
        "import chart_studio.plotly as py\n",
        "import chart_studio.tools as tls\n",
        "\n",
        "import plotly.graph_objects as go\n",
        "'''\n",
        "df = avg_location_24\n",
        "\n",
        "fig = go.Figure(data=go.Choropleth(\n",
        "    locations=df['State'], # Spatial coordinates\n",
        "    z = df['24- Avg Bal (in thousands)'].astype(float), # Data to be color-coded\n",
        "    locationmode = 'USA-states', # set of locations match entries in `locations`\n",
        "    colorscale = 'rdbu',\n",
        "    colorbar_title = \"Thousands USD\",\n",
        "))\n",
        "\n",
        "fig.update_layout(\n",
        "    title_text = 'Average Student Loan Debt per State by Borrowers 24 Years and Younger',\n",
        "    geo_scope='usa', # limit map scope to USA\n",
        ")\n",
        "\n",
        "# py.plot(fig, filename = 'Student Loan Debt 24 and Younger', auto_open=False)\n",
        "\n",
        "fig.show()"
      ],
      "execution_count": 191,
      "outputs": [
        {
          "output_type": "display_data",
          "data": {
            "text/html": [
              "<html>\n",
              "<head><meta charset=\"utf-8\" /></head>\n",
              "<body>\n",
              "    <div>\n",
              "            <script src=\"https://cdnjs.cloudflare.com/ajax/libs/mathjax/2.7.5/MathJax.js?config=TeX-AMS-MML_SVG\"></script><script type=\"text/javascript\">if (window.MathJax) {MathJax.Hub.Config({SVG: {font: \"STIX-Web\"}});}</script>\n",
              "                <script type=\"text/javascript\">window.PlotlyConfig = {MathJaxConfig: 'local'};</script>\n",
              "        <script src=\"https://cdn.plot.ly/plotly-latest.min.js\"></script>    \n",
              "            <div id=\"b6081e2c-e6ea-43b3-97fc-c371f996cda7\" class=\"plotly-graph-div\" style=\"height:525px; width:100%;\"></div>\n",
              "            <script type=\"text/javascript\">\n",
              "                \n",
              "                    window.PLOTLYENV=window.PLOTLYENV || {};\n",
              "                    \n",
              "                if (document.getElementById(\"b6081e2c-e6ea-43b3-97fc-c371f996cda7\")) {\n",
              "                    Plotly.newPlot(\n",
              "                        'b6081e2c-e6ea-43b3-97fc-c371f996cda7',\n",
              "                        [{\"colorbar\": {\"title\": {\"text\": \"Thousands USD\"}}, \"colorscale\": [[0.0, \"rgb(103,0,31)\"], [0.1, \"rgb(178,24,43)\"], [0.2, \"rgb(214,96,77)\"], [0.3, \"rgb(244,165,130)\"], [0.4, \"rgb(253,219,199)\"], [0.5, \"rgb(247,247,247)\"], [0.6, \"rgb(209,229,240)\"], [0.7, \"rgb(146,197,222)\"], [0.8, \"rgb(67,147,195)\"], [0.9, \"rgb(33,102,172)\"], [1.0, \"rgb(5,48,97)\"]], \"locationmode\": \"USA-states\", \"locations\": [\"AL\", \"AK\", \"AZ\", \"AR\", \"CA\", \"CO\", \"CT\", \"DE\", \"DC\", \"FL\", \"GA\", \"HI\", \"ID\", \"IL\", \"IN\", \"IA\", \"KS\", \"KY\", \"LA\", \"ME\", \"MD\", \"MA\", \"MI\", \"MN\", \"MS\", \"MO\", \"MT\", \"NE\", \"NV\", \"NH\", \"NJ\", \"NM\", \"NY\", \"NC\", \"ND\", \"OH\", \"OK\", \"OR\", \"PA\", \"PR\", \"RI\", \"SC\", \"SD\", \"TN\", \"TX\", \"UT\", \"VT\", \"VA\", \"WA\", \"WV\", \"WI\", \"WY\"], \"type\": \"choropleth\", \"z\": [14.75, 11.43, 13.07, 13.46, 13.81, 13.65, 16.41, 15.44, 18.95, 14.5, 14.96, 13.64, 11.89, 15.83, 14.04, 14.2, 13.81, 14.17, 13.76, 15.42, 16.08, 16.28, 15.53, 14.78, 13.63, 14.92, 12.72, 13.86, 12.1, 15.8, 16.2, 11.29, 16.45, 15.59, 13.9, 15.15, 12.8, 13.53, 16.38, 9.22, 15.87, 15.56, 14.63, 14.57, 13.34, 10.25, 15.34, 15.77, 13.44, 14.16, 14.8, 10.87]}],\n",
              "                        {\"geo\": {\"scope\": \"usa\"}, \"template\": {\"data\": {\"bar\": [{\"error_x\": {\"color\": \"#2a3f5f\"}, \"error_y\": {\"color\": \"#2a3f5f\"}, \"marker\": {\"line\": {\"color\": \"#E5ECF6\", \"width\": 0.5}}, \"type\": \"bar\"}], \"barpolar\": [{\"marker\": {\"line\": {\"color\": \"#E5ECF6\", \"width\": 0.5}}, \"type\": \"barpolar\"}], \"carpet\": [{\"aaxis\": {\"endlinecolor\": \"#2a3f5f\", \"gridcolor\": \"white\", \"linecolor\": \"white\", \"minorgridcolor\": \"white\", \"startlinecolor\": \"#2a3f5f\"}, \"baxis\": {\"endlinecolor\": \"#2a3f5f\", \"gridcolor\": \"white\", \"linecolor\": \"white\", \"minorgridcolor\": \"white\", \"startlinecolor\": \"#2a3f5f\"}, \"type\": \"carpet\"}], \"choropleth\": [{\"colorbar\": {\"outlinewidth\": 0, \"ticks\": \"\"}, \"type\": \"choropleth\"}], \"contour\": [{\"colorbar\": {\"outlinewidth\": 0, \"ticks\": \"\"}, \"colorscale\": [[0.0, \"#0d0887\"], [0.1111111111111111, \"#46039f\"], [0.2222222222222222, \"#7201a8\"], [0.3333333333333333, \"#9c179e\"], [0.4444444444444444, \"#bd3786\"], [0.5555555555555556, \"#d8576b\"], [0.6666666666666666, \"#ed7953\"], [0.7777777777777778, \"#fb9f3a\"], [0.8888888888888888, \"#fdca26\"], [1.0, \"#f0f921\"]], \"type\": \"contour\"}], \"contourcarpet\": [{\"colorbar\": {\"outlinewidth\": 0, \"ticks\": \"\"}, \"type\": \"contourcarpet\"}], \"heatmap\": [{\"colorbar\": {\"outlinewidth\": 0, \"ticks\": \"\"}, \"colorscale\": [[0.0, \"#0d0887\"], [0.1111111111111111, \"#46039f\"], [0.2222222222222222, \"#7201a8\"], [0.3333333333333333, \"#9c179e\"], [0.4444444444444444, \"#bd3786\"], [0.5555555555555556, \"#d8576b\"], [0.6666666666666666, \"#ed7953\"], [0.7777777777777778, \"#fb9f3a\"], [0.8888888888888888, \"#fdca26\"], [1.0, \"#f0f921\"]], \"type\": \"heatmap\"}], \"heatmapgl\": [{\"colorbar\": {\"outlinewidth\": 0, \"ticks\": \"\"}, \"colorscale\": [[0.0, \"#0d0887\"], [0.1111111111111111, \"#46039f\"], [0.2222222222222222, \"#7201a8\"], [0.3333333333333333, \"#9c179e\"], [0.4444444444444444, \"#bd3786\"], [0.5555555555555556, \"#d8576b\"], [0.6666666666666666, \"#ed7953\"], [0.7777777777777778, \"#fb9f3a\"], [0.8888888888888888, \"#fdca26\"], [1.0, \"#f0f921\"]], \"type\": \"heatmapgl\"}], \"histogram\": [{\"marker\": {\"colorbar\": {\"outlinewidth\": 0, \"ticks\": \"\"}}, \"type\": \"histogram\"}], \"histogram2d\": [{\"colorbar\": {\"outlinewidth\": 0, \"ticks\": \"\"}, \"colorscale\": [[0.0, \"#0d0887\"], [0.1111111111111111, \"#46039f\"], [0.2222222222222222, \"#7201a8\"], [0.3333333333333333, \"#9c179e\"], [0.4444444444444444, \"#bd3786\"], [0.5555555555555556, \"#d8576b\"], [0.6666666666666666, \"#ed7953\"], [0.7777777777777778, \"#fb9f3a\"], [0.8888888888888888, \"#fdca26\"], [1.0, \"#f0f921\"]], \"type\": \"histogram2d\"}], \"histogram2dcontour\": [{\"colorbar\": {\"outlinewidth\": 0, \"ticks\": \"\"}, \"colorscale\": [[0.0, \"#0d0887\"], [0.1111111111111111, \"#46039f\"], [0.2222222222222222, \"#7201a8\"], [0.3333333333333333, \"#9c179e\"], [0.4444444444444444, \"#bd3786\"], [0.5555555555555556, \"#d8576b\"], [0.6666666666666666, \"#ed7953\"], [0.7777777777777778, \"#fb9f3a\"], [0.8888888888888888, \"#fdca26\"], [1.0, \"#f0f921\"]], \"type\": \"histogram2dcontour\"}], \"mesh3d\": [{\"colorbar\": {\"outlinewidth\": 0, \"ticks\": \"\"}, \"type\": \"mesh3d\"}], \"parcoords\": [{\"line\": {\"colorbar\": {\"outlinewidth\": 0, \"ticks\": \"\"}}, \"type\": \"parcoords\"}], \"pie\": [{\"automargin\": true, \"type\": \"pie\"}], \"scatter\": [{\"marker\": {\"colorbar\": {\"outlinewidth\": 0, \"ticks\": \"\"}}, \"type\": \"scatter\"}], \"scatter3d\": [{\"line\": {\"colorbar\": {\"outlinewidth\": 0, \"ticks\": \"\"}}, \"marker\": {\"colorbar\": {\"outlinewidth\": 0, \"ticks\": \"\"}}, \"type\": \"scatter3d\"}], \"scattercarpet\": [{\"marker\": {\"colorbar\": {\"outlinewidth\": 0, \"ticks\": \"\"}}, \"type\": \"scattercarpet\"}], \"scattergeo\": [{\"marker\": {\"colorbar\": {\"outlinewidth\": 0, \"ticks\": \"\"}}, \"type\": \"scattergeo\"}], \"scattergl\": [{\"marker\": {\"colorbar\": {\"outlinewidth\": 0, \"ticks\": \"\"}}, \"type\": \"scattergl\"}], \"scattermapbox\": [{\"marker\": {\"colorbar\": {\"outlinewidth\": 0, \"ticks\": \"\"}}, \"type\": \"scattermapbox\"}], \"scatterpolar\": [{\"marker\": {\"colorbar\": {\"outlinewidth\": 0, \"ticks\": \"\"}}, \"type\": \"scatterpolar\"}], \"scatterpolargl\": [{\"marker\": {\"colorbar\": {\"outlinewidth\": 0, \"ticks\": \"\"}}, \"type\": \"scatterpolargl\"}], \"scatterternary\": [{\"marker\": {\"colorbar\": {\"outlinewidth\": 0, \"ticks\": \"\"}}, \"type\": \"scatterternary\"}], \"surface\": [{\"colorbar\": {\"outlinewidth\": 0, \"ticks\": \"\"}, \"colorscale\": [[0.0, \"#0d0887\"], [0.1111111111111111, \"#46039f\"], [0.2222222222222222, \"#7201a8\"], [0.3333333333333333, \"#9c179e\"], [0.4444444444444444, \"#bd3786\"], [0.5555555555555556, \"#d8576b\"], [0.6666666666666666, \"#ed7953\"], [0.7777777777777778, \"#fb9f3a\"], [0.8888888888888888, \"#fdca26\"], [1.0, \"#f0f921\"]], \"type\": \"surface\"}], \"table\": [{\"cells\": {\"fill\": {\"color\": \"#EBF0F8\"}, \"line\": {\"color\": \"white\"}}, \"header\": {\"fill\": {\"color\": \"#C8D4E3\"}, \"line\": {\"color\": \"white\"}}, \"type\": \"table\"}]}, \"layout\": {\"annotationdefaults\": {\"arrowcolor\": \"#2a3f5f\", \"arrowhead\": 0, \"arrowwidth\": 1}, \"coloraxis\": {\"colorbar\": {\"outlinewidth\": 0, \"ticks\": \"\"}}, \"colorscale\": {\"diverging\": [[0, \"#8e0152\"], [0.1, \"#c51b7d\"], [0.2, \"#de77ae\"], [0.3, \"#f1b6da\"], [0.4, \"#fde0ef\"], [0.5, \"#f7f7f7\"], [0.6, \"#e6f5d0\"], [0.7, \"#b8e186\"], [0.8, \"#7fbc41\"], [0.9, \"#4d9221\"], [1, \"#276419\"]], \"sequential\": [[0.0, \"#0d0887\"], [0.1111111111111111, \"#46039f\"], [0.2222222222222222, \"#7201a8\"], [0.3333333333333333, \"#9c179e\"], [0.4444444444444444, \"#bd3786\"], [0.5555555555555556, \"#d8576b\"], [0.6666666666666666, \"#ed7953\"], [0.7777777777777778, \"#fb9f3a\"], [0.8888888888888888, \"#fdca26\"], [1.0, \"#f0f921\"]], \"sequentialminus\": [[0.0, \"#0d0887\"], [0.1111111111111111, \"#46039f\"], [0.2222222222222222, \"#7201a8\"], [0.3333333333333333, \"#9c179e\"], [0.4444444444444444, \"#bd3786\"], [0.5555555555555556, \"#d8576b\"], [0.6666666666666666, \"#ed7953\"], [0.7777777777777778, \"#fb9f3a\"], [0.8888888888888888, \"#fdca26\"], [1.0, \"#f0f921\"]]}, \"colorway\": [\"#636efa\", \"#EF553B\", \"#00cc96\", \"#ab63fa\", \"#FFA15A\", \"#19d3f3\", \"#FF6692\", \"#B6E880\", \"#FF97FF\", \"#FECB52\"], \"font\": {\"color\": \"#2a3f5f\"}, \"geo\": {\"bgcolor\": \"white\", \"lakecolor\": \"white\", \"landcolor\": \"#E5ECF6\", \"showlakes\": true, \"showland\": true, \"subunitcolor\": \"white\"}, \"hoverlabel\": {\"align\": \"left\"}, \"hovermode\": \"closest\", \"mapbox\": {\"style\": \"light\"}, \"paper_bgcolor\": \"white\", \"plot_bgcolor\": \"#E5ECF6\", \"polar\": {\"angularaxis\": {\"gridcolor\": \"white\", \"linecolor\": \"white\", \"ticks\": \"\"}, \"bgcolor\": \"#E5ECF6\", \"radialaxis\": {\"gridcolor\": \"white\", \"linecolor\": \"white\", \"ticks\": \"\"}}, \"scene\": {\"xaxis\": {\"backgroundcolor\": \"#E5ECF6\", \"gridcolor\": \"white\", \"gridwidth\": 2, \"linecolor\": \"white\", \"showbackground\": true, \"ticks\": \"\", \"zerolinecolor\": \"white\"}, \"yaxis\": {\"backgroundcolor\": \"#E5ECF6\", \"gridcolor\": \"white\", \"gridwidth\": 2, \"linecolor\": \"white\", \"showbackground\": true, \"ticks\": \"\", \"zerolinecolor\": \"white\"}, \"zaxis\": {\"backgroundcolor\": \"#E5ECF6\", \"gridcolor\": \"white\", \"gridwidth\": 2, \"linecolor\": \"white\", \"showbackground\": true, \"ticks\": \"\", \"zerolinecolor\": \"white\"}}, \"shapedefaults\": {\"line\": {\"color\": \"#2a3f5f\"}}, \"ternary\": {\"aaxis\": {\"gridcolor\": \"white\", \"linecolor\": \"white\", \"ticks\": \"\"}, \"baxis\": {\"gridcolor\": \"white\", \"linecolor\": \"white\", \"ticks\": \"\"}, \"bgcolor\": \"#E5ECF6\", \"caxis\": {\"gridcolor\": \"white\", \"linecolor\": \"white\", \"ticks\": \"\"}}, \"title\": {\"x\": 0.05}, \"xaxis\": {\"automargin\": true, \"gridcolor\": \"white\", \"linecolor\": \"white\", \"ticks\": \"\", \"title\": {\"standoff\": 15}, \"zerolinecolor\": \"white\", \"zerolinewidth\": 2}, \"yaxis\": {\"automargin\": true, \"gridcolor\": \"white\", \"linecolor\": \"white\", \"ticks\": \"\", \"title\": {\"standoff\": 15}, \"zerolinecolor\": \"white\", \"zerolinewidth\": 2}}}, \"title\": {\"text\": \"Average Student Loan Debt per State by Borrowers 24 Years and Younger\"}},\n",
              "                        {\"responsive\": true}\n",
              "                    ).then(function(){\n",
              "                            \n",
              "var gd = document.getElementById('b6081e2c-e6ea-43b3-97fc-c371f996cda7');\n",
              "var x = new MutationObserver(function (mutations, observer) {{\n",
              "        var display = window.getComputedStyle(gd).display;\n",
              "        if (!display || display === 'none') {{\n",
              "            console.log([gd, 'removed!']);\n",
              "            Plotly.purge(gd);\n",
              "            observer.disconnect();\n",
              "        }}\n",
              "}});\n",
              "\n",
              "// Listen for the removal of the full notebook cells\n",
              "var notebookContainer = gd.closest('#notebook-container');\n",
              "if (notebookContainer) {{\n",
              "    x.observe(notebookContainer, {childList: true});\n",
              "}}\n",
              "\n",
              "// Listen for the clearing of the current output cell\n",
              "var outputEl = gd.closest('.output');\n",
              "if (outputEl) {{\n",
              "    x.observe(outputEl, {childList: true});\n",
              "}}\n",
              "\n",
              "                        })\n",
              "                };\n",
              "                \n",
              "            </script>\n",
              "        </div>\n",
              "</body>\n",
              "</html>"
            ]
          },
          "metadata": {
            "tags": []
          }
        }
      ]
    },
    {
      "cell_type": "code",
      "metadata": {
        "id": "4Y3Q2tGpQTcT",
        "colab_type": "code",
        "colab": {}
      },
      "source": [
        ""
      ],
      "execution_count": 0,
      "outputs": []
    }
  ]
}